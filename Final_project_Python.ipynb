{
 "cells": [
  {
   "cell_type": "code",
   "execution_count": 145,
   "id": "87fd15cf",
   "metadata": {},
   "outputs": [],
   "source": [
    "import pandas as pd\n",
    "import numpy as np\n",
    "import seaborn as sns\n",
    "import matplotlib.pyplot as plt \n",
    "\n",
    "\n",
    "import sqlite3\n",
    "from sqlite3 import Error\n",
    "\n",
    "from sklearn import tree\n",
    "from sklearn import metrics\n",
    "from sklearn import preprocessing\n",
    "from sklearn.tree import DecisionTreeClassifier\n",
    "from sklearn.linear_model import LogisticRegression\n",
    "from sklearn.ensemble import RandomForestClassifier\n",
    "from sklearn.model_selection import train_test_split\n",
    "\n",
    "\n",
    "sns.set(style=\"white\")\n",
    "plt.rc(\"font\", size=14)\n",
    "sns.set(style=\"whitegrid\", color_codes=True)\n"
   ]
  },
  {
   "cell_type": "code",
   "execution_count": 146,
   "id": "54209abd",
   "metadata": {},
   "outputs": [],
   "source": [
    "def create_connection(db_file, delete_db=False):\n",
    "    import os\n",
    "    if delete_db and os.path.exists(db_file):\n",
    "        os.remove(db_file)\n",
    "    conn = None\n",
    "    try:\n",
    "        conn = sqlite3.connect(db_file)\n",
    "        conn.execute(\"PRAGMA foreign_keys = 1\")\n",
    "    except Error as e:\n",
    "        print(e)\n",
    "\n",
    "    return conn\n",
    "\n",
    "\n",
    "def create_table(conn, create_table_sql, drop_table_name):\n",
    "    if drop_table_name: # You can optionally pass drop_table_name to drop the table. \n",
    "        try:\n",
    "            c = conn.cursor()\n",
    "            c.execute(\"\"\"DROP TABLE IF EXISTS %s\"\"\" % (drop_table_name))\n",
    "        except Error as e:\n",
    "            print(e)\n",
    "    try:\n",
    "        c = conn.cursor()\n",
    "        c.execute(create_table_sql)\n",
    "    except Error as e:\n",
    "        print(e)\n",
    "        \n",
    "def execute_sql_statement(sql_statement, conn):\n",
    "    cur = conn.cursor()\n",
    "    cur.execute(sql_statement)\n",
    "    rows = cur.fetchall()\n",
    "    return rows\n",
    "# with open(\"hotel_bookings.csv\", \"r\") as file:\n",
    "#     lineRead = file.readlines()\n",
    "#     column_names = lineRead[0].split(',')\n",
    "#     data_list = [lineRead[i] for i in range(1, len(lineRead))]\n",
    "#     value_list = [tuple(value.split(\",\")) for value in data_list]\n",
    "    \n",
    "# create_statement = \"\"\"Create table HotelDemand (\n",
    "#     {0} text not null, {1} integer not null, {2} integer not null ,{3} text not null,{4} integer not null, {5} text not null, \n",
    "#     {6} integer not null, {7} integer not null, {8} integer not null, {9} integer not null, {10} integer not null, {11} integer not null,\n",
    "#     {12} integer not null, {13} text not null, {14} text, {15} text not null, {16} text not null, {17} integer not null, {18} integer not null,\n",
    "#     {19} integer not null, {20} text not null, {21} text not null, {22} integer not null, {23} text not null, {24} integer, {25} integer,\n",
    "#     {26} integer not null, {27} text not null, {28} integer not null, {29} integer not null, {30} integer not null, {31} text not null,\n",
    "#     {32} text not null);\n",
    "# \"\"\".format(column_names[0],column_names[1],column_names[2],column_names[3],column_names[4],column_names[5],column_names[6],column_names[7],column_names[8],column_names[9],column_names[10],column_names[11],column_names[12], column_names[13],column_names[14],column_names[15],column_names[16],column_names[17],column_names[18],column_names[19],column_names[20],column_names[21],column_names[22],column_names[23],column_names[24],column_names[25], column_names[26],column_names[27],column_names[28],column_names[29],column_names[30],column_names[31],column_names[32])\n",
    "\n",
    "# insert_statement = \"\"\"Insert into HotelDemand values(?,?,?,?,?,?,?,?,?,?,?,?,?,?,?,?,?,?,?,?,?,?,?,?,?,?,?,?,?,?,?,?,?)\"\"\"\n",
    "\n",
    "\n",
    "\n",
    "# conn = create_connection(\"normalized.db\")\n",
    "# with conn:\n",
    "#         create_table(conn,create_statement)\n",
    "#         cur = conn.cursor()\n",
    "#         cur.executemany(insert_statement,value_list)"
   ]
  },
  {
   "cell_type": "code",
   "execution_count": 147,
   "id": "e417b104",
   "metadata": {},
   "outputs": [],
   "source": [
    "with open(\"hotel_bookings.csv\", \"r\") as file:\n",
    "    lineRead = file.readlines()\n",
    "    column_names = lineRead[0].split(',')\n",
    "    count =1\n",
    "    data_list = [lineRead[i] for i in range(1, len(lineRead))]\n",
    "    value_list = []\n",
    "    for value in data_list:\n",
    "        data = value.split(\",\")\n",
    "        data.insert(0,count)\n",
    "        value_list.append(tuple(data))\n",
    "        count+=1\n",
    "        \n",
    "create_statement = \"\"\"Create table HotelDemand (\n",
    "    {33} text not null Primary Key,\n",
    "    {0} text not null, {1} integer not null, {2} integer not null ,\n",
    "    {3} text not null, {4} integer not null, {5} text not null, \n",
    "    {6} integer not null, {7} integer not null, {8} integer not null,\n",
    "    {9} integer not null, {10} integer not null, {11} integer not null,\n",
    "    {12} integer not null, {13} text not null, {14} text,\n",
    "    {15} text not null, {16} text not null, {17} integer not null,\n",
    "    {18} integer not null, {19} integer not null, {20} text not null,\n",
    "    {21} text not null, {22} integer not null, {23} text not null,\n",
    "    {24} integer, {25} integer, {26} integer not null,\n",
    "    {27} text not null, {28} integer not null, {29} integer not null,\n",
    "    {30} integer not null, {31} text not null, {32} text not null);\n",
    "\"\"\".format(column_names[0],column_names[1],column_names[2],column_names[3],column_names[4],column_names[5],column_names[6],column_names[7],column_names[8],column_names[9],column_names[10],column_names[11],column_names[12], column_names[13],column_names[14],column_names[15],column_names[16],column_names[17],column_names[18],column_names[19],column_names[20],column_names[21],column_names[22],column_names[23],column_names[24],column_names[25], column_names[26],column_names[27],column_names[28],column_names[29],column_names[30],column_names[31],column_names[32],\"Value_id\")\n",
    "\n",
    "insert_statement = \"\"\"Insert into HotelDemand values(?,?,?,?,?,?,?,?,?,?,?,?,?,?,?,?,?,?,?,?,?,?,?,?,?,?,?,?,?,?,?,?,?,?)\"\"\"\n",
    "\n",
    "conn = create_connection(\"normalized.db\")\n",
    "with conn:\n",
    "        create_table(conn,create_statement,\"HotelDemand\")\n",
    "        cur = conn.cursor()\n",
    "        cur.executemany(insert_statement,value_list)"
   ]
  },
  {
   "cell_type": "code",
   "execution_count": 154,
   "id": "3f8f3c1d",
   "metadata": {},
   "outputs": [],
   "source": [
    "with open(\"hotel_bookings.csv\", \"r\") as file:\n",
    "    lineRead = file.readlines()\n",
    "    column_names = lineRead[0].split(',')\n",
    "\n",
    "conn = create_connection(\"normalized.db\")\n",
    "with conn:\n",
    "    cur = conn.cursor()\n",
    "    for i in column_names:\n",
    "        update_query = \"\"\"UPDATE HotelDemand SET {0} = NULL WHERE {0} = 'NULL';\"\"\".format(i)\n",
    "        cur.execute(update_query)"
   ]
  },
  {
   "cell_type": "code",
   "execution_count": 155,
   "id": "3f3f6cdc",
   "metadata": {},
   "outputs": [
    {
     "data": {
      "text/html": [
       "<div>\n",
       "<style scoped>\n",
       "    .dataframe tbody tr th:only-of-type {\n",
       "        vertical-align: middle;\n",
       "    }\n",
       "\n",
       "    .dataframe tbody tr th {\n",
       "        vertical-align: top;\n",
       "    }\n",
       "\n",
       "    .dataframe thead th {\n",
       "        text-align: right;\n",
       "    }\n",
       "</style>\n",
       "<table border=\"1\" class=\"dataframe\">\n",
       "  <thead>\n",
       "    <tr style=\"text-align: right;\">\n",
       "      <th></th>\n",
       "      <th>Value_id</th>\n",
       "      <th>hotel</th>\n",
       "      <th>is_canceled</th>\n",
       "      <th>lead_time</th>\n",
       "      <th>arrival_month_year</th>\n",
       "      <th>arrival_date_year</th>\n",
       "      <th>arrival_date_month</th>\n",
       "      <th>arrival_date_week_number</th>\n",
       "      <th>arrival_date_day_of_month</th>\n",
       "      <th>stays_in_weekend_nights</th>\n",
       "      <th>...</th>\n",
       "      <th>deposit_type</th>\n",
       "      <th>agent</th>\n",
       "      <th>company</th>\n",
       "      <th>days_in_waiting_list</th>\n",
       "      <th>customer_type</th>\n",
       "      <th>adr</th>\n",
       "      <th>required_car_parking_spaces</th>\n",
       "      <th>total_of_special_requests</th>\n",
       "      <th>reservation_status</th>\n",
       "      <th>reservation_status_date</th>\n",
       "    </tr>\n",
       "  </thead>\n",
       "  <tbody>\n",
       "    <tr>\n",
       "      <th>0</th>\n",
       "      <td>1</td>\n",
       "      <td>Resort Hotel</td>\n",
       "      <td>0</td>\n",
       "      <td>342</td>\n",
       "      <td>July 2015</td>\n",
       "      <td>2015</td>\n",
       "      <td>July</td>\n",
       "      <td>27</td>\n",
       "      <td>1</td>\n",
       "      <td>0</td>\n",
       "      <td>...</td>\n",
       "      <td>No Deposit</td>\n",
       "      <td>0</td>\n",
       "      <td>0</td>\n",
       "      <td>0</td>\n",
       "      <td>Transient</td>\n",
       "      <td>0.0</td>\n",
       "      <td>0</td>\n",
       "      <td>0</td>\n",
       "      <td>Check-Out</td>\n",
       "      <td>01-07-2015\\n</td>\n",
       "    </tr>\n",
       "    <tr>\n",
       "      <th>1</th>\n",
       "      <td>2</td>\n",
       "      <td>Resort Hotel</td>\n",
       "      <td>0</td>\n",
       "      <td>737</td>\n",
       "      <td>July 2015</td>\n",
       "      <td>2015</td>\n",
       "      <td>July</td>\n",
       "      <td>27</td>\n",
       "      <td>1</td>\n",
       "      <td>0</td>\n",
       "      <td>...</td>\n",
       "      <td>No Deposit</td>\n",
       "      <td>0</td>\n",
       "      <td>0</td>\n",
       "      <td>0</td>\n",
       "      <td>Transient</td>\n",
       "      <td>0.0</td>\n",
       "      <td>0</td>\n",
       "      <td>0</td>\n",
       "      <td>Check-Out</td>\n",
       "      <td>01-07-2015\\n</td>\n",
       "    </tr>\n",
       "    <tr>\n",
       "      <th>2</th>\n",
       "      <td>3</td>\n",
       "      <td>Resort Hotel</td>\n",
       "      <td>0</td>\n",
       "      <td>7</td>\n",
       "      <td>July 2015</td>\n",
       "      <td>2015</td>\n",
       "      <td>July</td>\n",
       "      <td>27</td>\n",
       "      <td>1</td>\n",
       "      <td>0</td>\n",
       "      <td>...</td>\n",
       "      <td>No Deposit</td>\n",
       "      <td>0</td>\n",
       "      <td>0</td>\n",
       "      <td>0</td>\n",
       "      <td>Transient</td>\n",
       "      <td>75.0</td>\n",
       "      <td>0</td>\n",
       "      <td>0</td>\n",
       "      <td>Check-Out</td>\n",
       "      <td>02-07-2015\\n</td>\n",
       "    </tr>\n",
       "    <tr>\n",
       "      <th>3</th>\n",
       "      <td>4</td>\n",
       "      <td>Resort Hotel</td>\n",
       "      <td>0</td>\n",
       "      <td>13</td>\n",
       "      <td>July 2015</td>\n",
       "      <td>2015</td>\n",
       "      <td>July</td>\n",
       "      <td>27</td>\n",
       "      <td>1</td>\n",
       "      <td>0</td>\n",
       "      <td>...</td>\n",
       "      <td>No Deposit</td>\n",
       "      <td>304</td>\n",
       "      <td>0</td>\n",
       "      <td>0</td>\n",
       "      <td>Transient</td>\n",
       "      <td>75.0</td>\n",
       "      <td>0</td>\n",
       "      <td>0</td>\n",
       "      <td>Check-Out</td>\n",
       "      <td>02-07-2015\\n</td>\n",
       "    </tr>\n",
       "    <tr>\n",
       "      <th>4</th>\n",
       "      <td>5</td>\n",
       "      <td>Resort Hotel</td>\n",
       "      <td>0</td>\n",
       "      <td>14</td>\n",
       "      <td>July 2015</td>\n",
       "      <td>2015</td>\n",
       "      <td>July</td>\n",
       "      <td>27</td>\n",
       "      <td>1</td>\n",
       "      <td>0</td>\n",
       "      <td>...</td>\n",
       "      <td>No Deposit</td>\n",
       "      <td>240</td>\n",
       "      <td>0</td>\n",
       "      <td>0</td>\n",
       "      <td>Transient</td>\n",
       "      <td>98.0</td>\n",
       "      <td>0</td>\n",
       "      <td>1</td>\n",
       "      <td>Check-Out</td>\n",
       "      <td>03-07-2015\\n</td>\n",
       "    </tr>\n",
       "  </tbody>\n",
       "</table>\n",
       "<p>5 rows × 34 columns</p>\n",
       "</div>"
      ],
      "text/plain": [
       "  Value_id         hotel  is_canceled  lead_time arrival_month_year  \\\n",
       "0        1  Resort Hotel            0        342          July 2015   \n",
       "1        2  Resort Hotel            0        737          July 2015   \n",
       "2        3  Resort Hotel            0          7          July 2015   \n",
       "3        4  Resort Hotel            0         13          July 2015   \n",
       "4        5  Resort Hotel            0         14          July 2015   \n",
       "\n",
       "   arrival_date_year arrival_date_month  arrival_date_week_number  \\\n",
       "0               2015               July                        27   \n",
       "1               2015               July                        27   \n",
       "2               2015               July                        27   \n",
       "3               2015               July                        27   \n",
       "4               2015               July                        27   \n",
       "\n",
       "   arrival_date_day_of_month  stays_in_weekend_nights  ...  deposit_type  \\\n",
       "0                          1                        0  ...    No Deposit   \n",
       "1                          1                        0  ...    No Deposit   \n",
       "2                          1                        0  ...    No Deposit   \n",
       "3                          1                        0  ...    No Deposit   \n",
       "4                          1                        0  ...    No Deposit   \n",
       "\n",
       "   agent company  days_in_waiting_list customer_type   adr  \\\n",
       "0      0       0                     0     Transient   0.0   \n",
       "1      0       0                     0     Transient   0.0   \n",
       "2      0       0                     0     Transient  75.0   \n",
       "3    304       0                     0     Transient  75.0   \n",
       "4    240       0                     0     Transient  98.0   \n",
       "\n",
       "  required_car_parking_spaces total_of_special_requests  reservation_status  \\\n",
       "0                           0                         0           Check-Out   \n",
       "1                           0                         0           Check-Out   \n",
       "2                           0                         0           Check-Out   \n",
       "3                           0                         0           Check-Out   \n",
       "4                           0                         1           Check-Out   \n",
       "\n",
       "   reservation_status_date  \n",
       "0             01-07-2015\\n  \n",
       "1             01-07-2015\\n  \n",
       "2             02-07-2015\\n  \n",
       "3             02-07-2015\\n  \n",
       "4             03-07-2015\\n  \n",
       "\n",
       "[5 rows x 34 columns]"
      ]
     },
     "execution_count": 155,
     "metadata": {},
     "output_type": "execute_result"
    }
   ],
   "source": [
    "conn = create_connection('normalized.db')\n",
    "sql_statement = \"\"\"select {33},{0},{1},{2},{3},{4},{5},{6},{7},{8},{9},{10},{11},{12},{13},{14},{15},{16},{17},{18},{19},\n",
    "{20},{21},{22},{23},{24},{25},{26},{27},{28},{29},{30},{31},{32} from HotelDemand\"\"\".format(column_names[0],column_names[1],column_names[2],column_names[3],column_names[4],column_names[5],column_names[6],column_names[7],column_names[8],column_names[9],column_names[10],column_names[11],column_names[12], column_names[13],column_names[14],column_names[15],column_names[16],column_names[17],column_names[18],column_names[19],column_names[20],column_names[21],column_names[22],column_names[23],column_names[24],column_names[25], column_names[26],column_names[27],column_names[28],column_names[29],column_names[30],column_names[31],column_names[32],\"Value_id\")\n",
    ";\n",
    "df = pd.read_sql_query(sql_statement, conn)\n",
    "df.head()"
   ]
  },
  {
   "cell_type": "code",
   "execution_count": 156,
   "id": "fc1862bf",
   "metadata": {},
   "outputs": [
    {
     "data": {
      "text/plain": [
       "(119390, 34)"
      ]
     },
     "execution_count": 156,
     "metadata": {},
     "output_type": "execute_result"
    }
   ],
   "source": [
    "df.shape"
   ]
  },
  {
   "cell_type": "code",
   "execution_count": 157,
   "id": "4324a5ef",
   "metadata": {},
   "outputs": [
    {
     "data": {
      "image/png": "[encoded data removed]",
      "text/plain": [
       "<Figure size 432x288 with 1 Axes>"
      ]
     },
     "metadata": {},
     "output_type": "display_data"
    }
   ],
   "source": [
    "import matplotlib.pyplot as plt \n",
    "import seaborn as sns\n",
    "sns.set(style=\"white\")\n",
    "sns.set(style=\"whitegrid\", color_codes=True)\n",
    "sns.countplot(x='is_canceled',data=df)\n",
    "plt.show()"
   ]
  },
  {
   "cell_type": "code",
   "execution_count": 158,
   "id": "3366daaf",
   "metadata": {},
   "outputs": [
    {
     "data": {
      "text/plain": [
       "Value_id                          0\n",
       "hotel                             0\n",
       "is_canceled                       0\n",
       "lead_time                         0\n",
       "arrival_month_year                0\n",
       "arrival_date_year                 0\n",
       "arrival_date_month                0\n",
       "arrival_date_week_number          0\n",
       "arrival_date_day_of_month         0\n",
       "stays_in_weekend_nights           0\n",
       "stays_in_week_nights              0\n",
       "adults                            0\n",
       "children                          0\n",
       "babies                            0\n",
       "meal                              0\n",
       "country                           0\n",
       "market_segment                    0\n",
       "distribution_channel              0\n",
       "is_repeated_guest                 0\n",
       "previous_cancellations            0\n",
       "previous_bookings_not_canceled    0\n",
       "reserved_room_type                0\n",
       "assigned_room_type                0\n",
       "booking_changes                   0\n",
       "deposit_type                      0\n",
       "agent                             0\n",
       "company                           0\n",
       "days_in_waiting_list              0\n",
       "customer_type                     0\n",
       "adr                               0\n",
       "required_car_parking_spaces       0\n",
       "total_of_special_requests         0\n",
       "reservation_status                0\n",
       "reservation_status_date           0\n",
       "dtype: int64"
      ]
     },
     "execution_count": 158,
     "metadata": {},
     "output_type": "execute_result"
    }
   ],
   "source": [
    "df.isnull().sum()"
   ]
  },
  {
   "cell_type": "code",
   "execution_count": 159,
   "id": "638e145e",
   "metadata": {},
   "outputs": [],
   "source": [
    "# Replace missing values:\n",
    "# agent: If no agency is given, booking was most likely made without one.\n",
    "# company: If none given, it was most likely private.\n",
    "# rest schould be self-explanatory.\n",
    "# \"meal\" contains values \"Undefined\", which is equal to SC.\n",
    "nan_list_zero = [\"children\",\"agent\",\"company\"]\n",
    "conn = create_connection(\"normalized.db\")\n",
    "with conn:\n",
    "    cur = conn.cursor()\n",
    "    for i in nan_list_zero:\n",
    "        update_query = \"\"\"UPDATE HotelDemand SET {0} = 0 WHERE {0} is null;\"\"\".format(i)\n",
    "        cur.execute(update_query)\n",
    "    \n",
    "    update_queries = []\n",
    "    update_queries.append(\"\"\"UPDATE HotelDemand SET {0} = 'Unknown' WHERE {0} is null;\"\"\".format(\"country\"))\n",
    "    update_queries.append(\"\"\"UPDATE HotelDemand SET {0} = 'SC' WHERE {0} = 'Undefined'\"\"\".format(\"meal\"))\n",
    "    for i in update_queries:\n",
    "        cur.execute(i)"
   ]
  },
  {
   "cell_type": "code",
   "execution_count": 160,
   "id": "d2672e94",
   "metadata": {},
   "outputs": [
    {
     "data": {
      "text/html": [
       "<div>\n",
       "<style scoped>\n",
       "    .dataframe tbody tr th:only-of-type {\n",
       "        vertical-align: middle;\n",
       "    }\n",
       "\n",
       "    .dataframe tbody tr th {\n",
       "        vertical-align: top;\n",
       "    }\n",
       "\n",
       "    .dataframe thead th {\n",
       "        text-align: right;\n",
       "    }\n",
       "</style>\n",
       "<table border=\"1\" class=\"dataframe\">\n",
       "  <thead>\n",
       "    <tr style=\"text-align: right;\">\n",
       "      <th></th>\n",
       "      <th>hotel</th>\n",
       "      <th>is_canceled</th>\n",
       "      <th>lead_time</th>\n",
       "      <th>arrival_month_year</th>\n",
       "      <th>arrival_date_year</th>\n",
       "      <th>arrival_date_month</th>\n",
       "      <th>arrival_date_week_number</th>\n",
       "      <th>arrival_date_day_of_month</th>\n",
       "      <th>stays_in_weekend_nights</th>\n",
       "      <th>stays_in_week_nights</th>\n",
       "      <th>...</th>\n",
       "      <th>deposit_type</th>\n",
       "      <th>agent</th>\n",
       "      <th>company</th>\n",
       "      <th>days_in_waiting_list</th>\n",
       "      <th>customer_type</th>\n",
       "      <th>adr</th>\n",
       "      <th>required_car_parking_spaces</th>\n",
       "      <th>total_of_special_requests</th>\n",
       "      <th>reservation_status</th>\n",
       "      <th>reservation_status_date</th>\n",
       "    </tr>\n",
       "  </thead>\n",
       "  <tbody>\n",
       "    <tr>\n",
       "      <th>0</th>\n",
       "      <td>Resort Hotel</td>\n",
       "      <td>0</td>\n",
       "      <td>342</td>\n",
       "      <td>July 2015</td>\n",
       "      <td>2015</td>\n",
       "      <td>July</td>\n",
       "      <td>27</td>\n",
       "      <td>1</td>\n",
       "      <td>0</td>\n",
       "      <td>0</td>\n",
       "      <td>...</td>\n",
       "      <td>No Deposit</td>\n",
       "      <td>0</td>\n",
       "      <td>0</td>\n",
       "      <td>0</td>\n",
       "      <td>Transient</td>\n",
       "      <td>0.0</td>\n",
       "      <td>0</td>\n",
       "      <td>0</td>\n",
       "      <td>Check-Out</td>\n",
       "      <td>01-07-2015\\n</td>\n",
       "    </tr>\n",
       "    <tr>\n",
       "      <th>1</th>\n",
       "      <td>Resort Hotel</td>\n",
       "      <td>0</td>\n",
       "      <td>737</td>\n",
       "      <td>July 2015</td>\n",
       "      <td>2015</td>\n",
       "      <td>July</td>\n",
       "      <td>27</td>\n",
       "      <td>1</td>\n",
       "      <td>0</td>\n",
       "      <td>0</td>\n",
       "      <td>...</td>\n",
       "      <td>No Deposit</td>\n",
       "      <td>0</td>\n",
       "      <td>0</td>\n",
       "      <td>0</td>\n",
       "      <td>Transient</td>\n",
       "      <td>0.0</td>\n",
       "      <td>0</td>\n",
       "      <td>0</td>\n",
       "      <td>Check-Out</td>\n",
       "      <td>01-07-2015\\n</td>\n",
       "    </tr>\n",
       "    <tr>\n",
       "      <th>2</th>\n",
       "      <td>Resort Hotel</td>\n",
       "      <td>0</td>\n",
       "      <td>7</td>\n",
       "      <td>July 2015</td>\n",
       "      <td>2015</td>\n",
       "      <td>July</td>\n",
       "      <td>27</td>\n",
       "      <td>1</td>\n",
       "      <td>0</td>\n",
       "      <td>1</td>\n",
       "      <td>...</td>\n",
       "      <td>No Deposit</td>\n",
       "      <td>0</td>\n",
       "      <td>0</td>\n",
       "      <td>0</td>\n",
       "      <td>Transient</td>\n",
       "      <td>75.0</td>\n",
       "      <td>0</td>\n",
       "      <td>0</td>\n",
       "      <td>Check-Out</td>\n",
       "      <td>02-07-2015\\n</td>\n",
       "    </tr>\n",
       "    <tr>\n",
       "      <th>3</th>\n",
       "      <td>Resort Hotel</td>\n",
       "      <td>0</td>\n",
       "      <td>13</td>\n",
       "      <td>July 2015</td>\n",
       "      <td>2015</td>\n",
       "      <td>July</td>\n",
       "      <td>27</td>\n",
       "      <td>1</td>\n",
       "      <td>0</td>\n",
       "      <td>1</td>\n",
       "      <td>...</td>\n",
       "      <td>No Deposit</td>\n",
       "      <td>304</td>\n",
       "      <td>0</td>\n",
       "      <td>0</td>\n",
       "      <td>Transient</td>\n",
       "      <td>75.0</td>\n",
       "      <td>0</td>\n",
       "      <td>0</td>\n",
       "      <td>Check-Out</td>\n",
       "      <td>02-07-2015\\n</td>\n",
       "    </tr>\n",
       "    <tr>\n",
       "      <th>4</th>\n",
       "      <td>Resort Hotel</td>\n",
       "      <td>0</td>\n",
       "      <td>14</td>\n",
       "      <td>July 2015</td>\n",
       "      <td>2015</td>\n",
       "      <td>July</td>\n",
       "      <td>27</td>\n",
       "      <td>1</td>\n",
       "      <td>0</td>\n",
       "      <td>2</td>\n",
       "      <td>...</td>\n",
       "      <td>No Deposit</td>\n",
       "      <td>240</td>\n",
       "      <td>0</td>\n",
       "      <td>0</td>\n",
       "      <td>Transient</td>\n",
       "      <td>98.0</td>\n",
       "      <td>0</td>\n",
       "      <td>1</td>\n",
       "      <td>Check-Out</td>\n",
       "      <td>03-07-2015\\n</td>\n",
       "    </tr>\n",
       "  </tbody>\n",
       "</table>\n",
       "<p>5 rows × 33 columns</p>\n",
       "</div>"
      ],
      "text/plain": [
       "          hotel  is_canceled  lead_time arrival_month_year  arrival_date_year  \\\n",
       "0  Resort Hotel            0        342          July 2015               2015   \n",
       "1  Resort Hotel            0        737          July 2015               2015   \n",
       "2  Resort Hotel            0          7          July 2015               2015   \n",
       "3  Resort Hotel            0         13          July 2015               2015   \n",
       "4  Resort Hotel            0         14          July 2015               2015   \n",
       "\n",
       "  arrival_date_month  arrival_date_week_number  arrival_date_day_of_month  \\\n",
       "0               July                        27                          1   \n",
       "1               July                        27                          1   \n",
       "2               July                        27                          1   \n",
       "3               July                        27                          1   \n",
       "4               July                        27                          1   \n",
       "\n",
       "   stays_in_weekend_nights  stays_in_week_nights  ...  deposit_type agent  \\\n",
       "0                        0                     0  ...    No Deposit     0   \n",
       "1                        0                     0  ...    No Deposit     0   \n",
       "2                        0                     1  ...    No Deposit     0   \n",
       "3                        0                     1  ...    No Deposit   304   \n",
       "4                        0                     2  ...    No Deposit   240   \n",
       "\n",
       "   company days_in_waiting_list customer_type   adr  \\\n",
       "0        0                    0     Transient   0.0   \n",
       "1        0                    0     Transient   0.0   \n",
       "2        0                    0     Transient  75.0   \n",
       "3        0                    0     Transient  75.0   \n",
       "4        0                    0     Transient  98.0   \n",
       "\n",
       "  required_car_parking_spaces  total_of_special_requests  reservation_status  \\\n",
       "0                           0                          0           Check-Out   \n",
       "1                           0                          0           Check-Out   \n",
       "2                           0                          0           Check-Out   \n",
       "3                           0                          0           Check-Out   \n",
       "4                           0                          1           Check-Out   \n",
       "\n",
       "   reservation_status_date  \n",
       "0             01-07-2015\\n  \n",
       "1             01-07-2015\\n  \n",
       "2             02-07-2015\\n  \n",
       "3             02-07-2015\\n  \n",
       "4             03-07-2015\\n  \n",
       "\n",
       "[5 rows x 33 columns]"
      ]
     },
     "execution_count": 160,
     "metadata": {},
     "output_type": "execute_result"
    }
   ],
   "source": [
    "conn = create_connection('normalized.db')\n",
    "sql_statement = \"\"\"select {0},{1},{2},{3},{4},{5},{6},{7},{8},{9},{10},{11},{12},{13},{14},{15},{16},{17},{18},{19},\n",
    "{20},{21},{22},{23},{24},{25},{26},{27},{28},{29},{30},{31},{32} from HotelDemand\"\"\".format(column_names[0],column_names[1],column_names[2],column_names[3],column_names[4],column_names[5],column_names[6],column_names[7],column_names[8],column_names[9],column_names[10],column_names[11],column_names[12], column_names[13],column_names[14],column_names[15],column_names[16],column_names[17],column_names[18],column_names[19],column_names[20],column_names[21],column_names[22],column_names[23],column_names[24],column_names[25], column_names[26],column_names[27],column_names[28],column_names[29],column_names[30],column_names[31],column_names[32])\n",
    ";\n",
    "df = pd.read_sql_query(sql_statement, conn)\n",
    "df.head()"
   ]
  },
  {
   "cell_type": "code",
   "execution_count": 161,
   "id": "f8c76c4a",
   "metadata": {},
   "outputs": [
    {
     "data": {
      "text/plain": [
       "hotel                             0\n",
       "is_canceled                       0\n",
       "lead_time                         0\n",
       "arrival_month_year                0\n",
       "arrival_date_year                 0\n",
       "arrival_date_month                0\n",
       "arrival_date_week_number          0\n",
       "arrival_date_day_of_month         0\n",
       "stays_in_weekend_nights           0\n",
       "stays_in_week_nights              0\n",
       "adults                            0\n",
       "children                          0\n",
       "babies                            0\n",
       "meal                              0\n",
       "country                           0\n",
       "market_segment                    0\n",
       "distribution_channel              0\n",
       "is_repeated_guest                 0\n",
       "previous_cancellations            0\n",
       "previous_bookings_not_canceled    0\n",
       "reserved_room_type                0\n",
       "assigned_room_type                0\n",
       "booking_changes                   0\n",
       "deposit_type                      0\n",
       "agent                             0\n",
       "company                           0\n",
       "days_in_waiting_list              0\n",
       "customer_type                     0\n",
       "adr                               0\n",
       "required_car_parking_spaces       0\n",
       "total_of_special_requests         0\n",
       "reservation_status                0\n",
       "reservation_status_date           0\n",
       "dtype: int64"
      ]
     },
     "execution_count": 161,
     "metadata": {},
     "output_type": "execute_result"
    }
   ],
   "source": [
    "df.isnull().sum()"
   ]
  },
  {
   "cell_type": "code",
   "execution_count": 162,
   "id": "4a63c7c3",
   "metadata": {},
   "outputs": [
    {
     "data": {
      "image/png": "[encoded data removed]",
      "text/plain": [
       "<Figure size 432x288 with 1 Axes>"
      ]
     },
     "metadata": {},
     "output_type": "display_data"
    }
   ],
   "source": [
    "from numpy import mean\n",
    "ax = sns.barplot(x=\"meal\", y=\"is_canceled\", data=df, estimator=mean)"
   ]
  },
  {
   "cell_type": "code",
   "execution_count": 163,
   "id": "6b186570",
   "metadata": {},
   "outputs": [
    {
     "data": {
      "image/png": "[encoded data removed]",
      "text/plain": [
       "<Figure size 432x288 with 1 Axes>"
      ]
     },
     "metadata": {},
     "output_type": "display_data"
    }
   ],
   "source": [
    "from numpy import mean\n",
    "ax = sns.barplot(x=\"is_repeated_guest\", y=\"is_canceled\", data=df, estimator=mean)"
   ]
  },
  {
   "cell_type": "code",
   "execution_count": 164,
   "id": "4bf7dce1",
   "metadata": {},
   "outputs": [
    {
     "data": {
      "image/png": "[encoded data removed]",
      "text/plain": [
       "<Figure size 432x288 with 1 Axes>"
      ]
     },
     "metadata": {},
     "output_type": "display_data"
    }
   ],
   "source": [
    "from numpy import mean\n",
    "ax = sns.barplot(x=\"market_segment\", y=\"is_canceled\", data=df, estimator=mean)"
   ]
  },
  {
   "cell_type": "code",
   "execution_count": 165,
   "id": "ff0a565c",
   "metadata": {},
   "outputs": [
    {
     "data": {
      "image/png": "[encoded data removed]",
      "text/plain": [
       "<Figure size 432x288 with 1 Axes>"
      ]
     },
     "metadata": {},
     "output_type": "display_data"
    }
   ],
   "source": [
    "from numpy import mean\n",
    "ax = sns.barplot(x=\"arrival_date_month\", y=\"is_canceled\", data=df, estimator=mean)"
   ]
  },
  {
   "cell_type": "code",
   "execution_count": 166,
   "id": "4fdb5138",
   "metadata": {},
   "outputs": [
    {
     "data": {
      "image/png": "[encoded data removed]",
      "text/plain": [
       "<Figure size 432x288 with 1 Axes>"
      ]
     },
     "metadata": {},
     "output_type": "display_data"
    }
   ],
   "source": [
    "from numpy import mean\n",
    "ax = sns.barplot(x=\"stays_in_weekend_nights\", y=\"is_canceled\", data=df, estimator=mean)"
   ]
  },
  {
   "cell_type": "code",
   "execution_count": 167,
   "id": "42b632b2",
   "metadata": {},
   "outputs": [
    {
     "data": {
      "image/png": "[encoded data removed]",
      "text/plain": [
       "<Figure size 432x288 with 1 Axes>"
      ]
     },
     "metadata": {},
     "output_type": "display_data"
    }
   ],
   "source": [
    "from numpy import mean\n",
    "ax = sns.barplot(x=\"stays_in_week_nights\", y=\"is_canceled\", data=df, estimator=mean)"
   ]
  },
  {
   "cell_type": "code",
   "execution_count": 168,
   "id": "6e63a595",
   "metadata": {},
   "outputs": [
    {
     "data": {
      "image/png": "[encoded data removed]",
      "text/plain": [
       "<Figure size 432x288 with 1 Axes>"
      ]
     },
     "metadata": {},
     "output_type": "display_data"
    }
   ],
   "source": [
    "df['stays_in_week_nights_rank']=pd.qcut(df['stays_in_week_nights'].rank(method='first').values,5,duplicates='drop').codes+1\n",
    "#df.groupby('age_rank')['age'].max()\n",
    "from numpy import mean\n",
    "a=sns.barplot(x=\"stays_in_week_nights_rank\",y=\"is_canceled\",data=df,estimator=mean)"
   ]
  },
  {
   "cell_type": "code",
   "execution_count": 169,
   "id": "4da8d909",
   "metadata": {},
   "outputs": [
    {
     "data": {
      "text/plain": [
       "stay_in_week_night_grp\n",
       "3    0.370416\n",
       "Name: is_canceled, dtype: float64"
      ]
     },
     "execution_count": 169,
     "metadata": {},
     "output_type": "execute_result"
    }
   ],
   "source": [
    "df['stay_in_week_night_grp']=np.where(df['stays_in_week_nights_rank'].isin(['1','2']),1,np.where(df['stays_in_week_nights_rank'].isin(['3','4']),2,3))\n",
    "df.groupby('stay_in_week_night_grp')['is_canceled'].mean()"
   ]
  },
  {
   "cell_type": "code",
   "execution_count": 170,
   "id": "ec3e43a2",
   "metadata": {
    "scrolled": false
   },
   "outputs": [
    {
     "data": {
      "image/png": "[encoded data removed]",
      "text/plain": [
       "<Figure size 432x288 with 1 Axes>"
      ]
     },
     "metadata": {},
     "output_type": "display_data"
    }
   ],
   "source": [
    "from numpy import mean\n",
    "ax = sns.barplot(x=\"previous_cancellations\", y=\"is_canceled\", data=df, estimator=mean)"
   ]
  },
  {
   "cell_type": "code",
   "execution_count": 171,
   "id": "590f9991",
   "metadata": {},
   "outputs": [
    {
     "data": {
      "image/png": "[encoded data removed]",
      "text/plain": [
       "<Figure size 432x288 with 1 Axes>"
      ]
     },
     "metadata": {},
     "output_type": "display_data"
    }
   ],
   "source": [
    "from numpy import mean\n",
    "ax = sns.lineplot(x=\"distribution_channel\", y=\"is_canceled\", data=df, estimator=mean)"
   ]
  },
  {
   "cell_type": "code",
   "execution_count": 172,
   "id": "c3374250",
   "metadata": {},
   "outputs": [],
   "source": [
    "create_statement = \"\"\"create table hotel_bookings_modified as \n",
    "select *, ntile(5) OVER(ORDER BY stays_in_weekend_nights) as stays_in_week_nights_rank,\n",
    "ntile(5) OVER(ORDER BY days_in_waiting_list) as day_wait_rank from HotelDemand;\"\"\"\n",
    "\n",
    "conn = create_connection(\"normalized.db\")\n",
    "with conn:\n",
    "        create_table(conn,create_statement,\"hotel_bookings_modified\")"
   ]
  },
  {
   "cell_type": "code",
   "execution_count": 37,
   "id": "a896fa76",
   "metadata": {},
   "outputs": [],
   "source": [
    "#df['day_wait_rank']=pd.qcut(df['days_in_waiting_list'].rank(method='first').values,5,duplicates='drop').codes+1"
   ]
  },
  {
   "cell_type": "code",
   "execution_count": 177,
   "id": "e7f0aa3f",
   "metadata": {},
   "outputs": [],
   "source": [
    "conn = create_connection('normalized.db')\n",
    "sql_statement = \"\"\"select {0} from hotel_bookings_modified\"\"\".format(\"day_wait_rank\");\n",
    "day_wait = pd.read_sql_query(sql_statement, conn)\n",
    "df['day_wait_ind']=np.where(day_wait[\"day_wait_rank\"].isin(['3']),1,0)"
   ]
  },
  {
   "cell_type": "code",
   "execution_count": 180,
   "id": "6c6c3a1d",
   "metadata": {},
   "outputs": [],
   "source": [
    "df['prev_cancel_ind']=np.where(df['previous_cancellations'].isin(['0']),0,1)"
   ]
  },
  {
   "cell_type": "code",
   "execution_count": 181,
   "id": "b621d628",
   "metadata": {},
   "outputs": [],
   "source": [
    "df['lead_time_rank']=pd.qcut(df['lead_time'].rank(method='first').values,10,duplicates='drop').codes+1"
   ]
  },
  {
   "cell_type": "code",
   "execution_count": 234,
   "id": "ce4bc753",
   "metadata": {},
   "outputs": [
    {
     "name": "stdout",
     "output_type": "stream",
     "text": [
      "Index(['total_of_special_requests', 'customer_type', 'reserved_room_type',\n",
      "       'distribution_channel', 'market_segment', 'previous_cancellations',\n",
      "       'stays_in_week_nights_rank', 'day_wait_ind'],\n",
      "      dtype='object')\n"
     ]
    }
   ],
   "source": [
    "conn = create_connection('normalized.db')\n",
    "sql_statement = \"\"\"select {0} from hotel_bookings_modified\"\"\".format(\"is_canceled\")\n",
    "sql_statement_1 = \"\"\"select {0},{1} from hotel_bookings_modified\"\"\".format(\"lead_time\",\"adr\")\n",
    "# sql_statement_2 = \"\"\"select {0},{1},{2},{3},{4},{5},{6},{7} from hotel_bookings_modified\"\"\".format('day_wait_ind','total_of_special_requests','customer_type','reserved_room_type',\n",
    "#           'distribution_channel','market_segment',\n",
    "#           'prev_cancel_ind','stay_in_week_night_grp')\n",
    "sql_statement_2 = \"\"\"select {0},{1},{2},{3},{4},{5},{6} from hotel_bookings_modified\"\"\".format('total_of_special_requests','customer_type','reserved_room_type',\n",
    "           'distribution_channel','market_segment',\n",
    "           'previous_cancellations','stays_in_week_nights_rank')\n",
    "\n",
    "day_wait = pd.read_sql_query(sql_statement, conn)\n",
    "lead_col = pd.read_sql_query(sql_statement_1,conn)\n",
    "col_chars = pd.read_sql_query(sql_statement_2, conn)\n",
    "\n",
    "dep=day_wait['is_canceled']\n",
    "\n",
    "lead_arr = lead_col['lead_time'].values.tolist()\n",
    "adr_arr = lead_col['adr'].values.tolist()\n",
    "col_dict = {\"lead_time\": lead_arr, \"adr\":adr_arr}\n",
    "col_num = pd.DataFrame(col_dict)\n",
    "        \n",
    "# col_char= col_chars['day_wait_ind','total_of_special_requests','customer_type','reserved_room_type',\n",
    "#           'distribution_channel','market_segment',\n",
    "#           'prev_cancel_ind','stay_in_week_night_grp']\n",
    "arr_1 = col_chars['total_of_special_requests'].values.tolist()\n",
    "arr_2 = col_chars['customer_type'].values.tolist()\n",
    "arr_3 = col_chars['reserved_room_type'].values.tolist()\n",
    "arr_4 = col_chars['distribution_channel'].values.tolist()\n",
    "arr_5 = col_chars['market_segment'].values.tolist()\n",
    "arr_6 = col_chars['previous_cancellations'].values.tolist()\n",
    "arr_7 = col_chars['stays_in_week_nights_rank'].values.tolist()\n",
    "arr_dict = {'total_of_special_requests':arr_1,'customer_type':arr_2,'reserved_room_type':arr_3,\n",
    "            'distribution_channel':arr_4,'market_segment':arr_5,\n",
    "            'previous_cancellations':arr_6,'stays_in_week_nights_rank':arr_7}\n",
    "col_char= pd.DataFrame(arr_dict)\n",
    "col_char['day_wait_ind'] = df['day_wait_ind']\n",
    "print(col_char.columns)"
   ]
  },
  {
   "cell_type": "code",
   "execution_count": 236,
   "id": "c0e9f8d3",
   "metadata": {
    "scrolled": true
   },
   "outputs": [],
   "source": [
    "X_char_dum = pd.get_dummies(col_char, drop_first = True)"
   ]
  },
  {
   "cell_type": "code",
   "execution_count": 238,
   "id": "eaaa0632",
   "metadata": {},
   "outputs": [],
   "source": [
    "X_all=pd.concat([col_num,X_char_dum],axis=1, join='inner')"
   ]
  },
  {
   "cell_type": "code",
   "execution_count": 240,
   "id": "19ec0849",
   "metadata": {},
   "outputs": [],
   "source": [
    "X_var=X_all\n",
    "Y_var=df['is_canceled']"
   ]
  },
  {
   "cell_type": "code",
   "execution_count": 241,
   "id": "2df573c0",
   "metadata": {},
   "outputs": [
    {
     "name": "stderr",
     "output_type": "stream",
     "text": [
      "C:\\Users\\Sainarayana\\anaconda3\\lib\\site-packages\\sklearn\\linear_model\\_logistic.py:763: ConvergenceWarning: lbfgs failed to converge (status=1):\n",
      "STOP: TOTAL NO. of ITERATIONS REACHED LIMIT.\n",
      "\n",
      "Increase the number of iterations (max_iter) or scale the data as shown in:\n",
      "    https://scikit-learn.org/stable/modules/preprocessing.html\n",
      "Please also refer to the documentation for alternative solver options:\n",
      "    https://scikit-learn.org/stable/modules/linear_model.html#logistic-regression\n",
      "  n_iter_i = _check_optimize_result(\n"
     ]
    },
    {
     "data": {
      "text/plain": [
       "RandomForestClassifier(max_depth=7, n_estimators=1000, random_state=2)"
      ]
     },
     "execution_count": 241,
     "metadata": {},
     "output_type": "execute_result"
    }
   ],
   "source": [
    "X_train, X_test, y_train, y_test = train_test_split(X_var, Y_var, test_size=0.3, random_state=0)\n",
    "\n",
    "logreg = LogisticRegression()\n",
    "logreg.fit(X_train, y_train)\n",
    "\n",
    "dtree = DecisionTreeClassifier(criterion = \"gini\", random_state = 100,max_depth=7, min_samples_leaf=5)\n",
    "dtree.fit(X_train, y_train)\n",
    "\n",
    "rf_1000 = RandomForestClassifier(n_estimators=1000,\n",
    "                  random_state=2,\n",
    "                  criterion = 'gini',\n",
    "                  max_features = 'auto', \n",
    "                  max_depth = 7)\n",
    "rf_1000.fit(X_train, y_train)"
   ]
  },
  {
   "cell_type": "code",
   "execution_count": 242,
   "id": "105da300",
   "metadata": {},
   "outputs": [
    {
     "name": "stdout",
     "output_type": "stream",
     "text": [
      "Accuracy of logistic regression classifier on test set: 0.62\n"
     ]
    }
   ],
   "source": [
    "y_pred = logreg.predict(X_test)\n",
    "print('Accuracy of logistic regression classifier on test set: {:.2f}'.format(logreg.score(X_test, y_test)))"
   ]
  },
  {
   "cell_type": "code",
   "execution_count": 243,
   "id": "6942ff3d",
   "metadata": {},
   "outputs": [
    {
     "name": "stdout",
     "output_type": "stream",
     "text": [
      "Accuracy of Decision Tree classifier on test set: 0.84\n"
     ]
    }
   ],
   "source": [
    "y_pred_tree=dtree.predict(X_test)\n",
    "print('Accuracy of Decision Tree classifier on test set: {:.2f}'.format(dtree.score(X_test, y_test)))"
   ]
  },
  {
   "cell_type": "code",
   "execution_count": 244,
   "id": "1d337ad7",
   "metadata": {},
   "outputs": [
    {
     "name": "stdout",
     "output_type": "stream",
     "text": [
      "Accuracy of Random Forest classifier on test set: 0.82\n"
     ]
    }
   ],
   "source": [
    "y_pred_RF=rf_1000.predict(X_test)\n",
    "print('Accuracy of Random Forest classifier on test set: {:.2f}'.format(rf_1000.score(X_test, y_test)))"
   ]
  },
  {
   "cell_type": "code",
   "execution_count": 245,
   "id": "eb1658d4",
   "metadata": {},
   "outputs": [
    {
     "name": "stdout",
     "output_type": "stream",
     "text": [
      "[[19310  3061]\n",
      " [10373  3073]]\n"
     ]
    }
   ],
   "source": [
    "from sklearn.metrics import confusion_matrix\n",
    "confusion_matrix = confusion_matrix(y_test, y_pred)\n",
    "print(confusion_matrix)"
   ]
  },
  {
   "cell_type": "code",
   "execution_count": 246,
   "id": "8b3bae18",
   "metadata": {},
   "outputs": [
    {
     "name": "stdout",
     "output_type": "stream",
     "text": [
      "              precision    recall  f1-score   support\n",
      "\n",
      "           0       0.83      0.94      0.88     22371\n",
      "           1       0.87      0.69      0.77     13446\n",
      "\n",
      "    accuracy                           0.84     35817\n",
      "   macro avg       0.85      0.81      0.83     35817\n",
      "weighted avg       0.85      0.84      0.84     35817\n",
      "\n"
     ]
    }
   ],
   "source": [
    "from sklearn.metrics import classification_report\n",
    "print(classification_report(y_test, y_pred_tree))"
   ]
  },
  {
   "cell_type": "code",
   "execution_count": 247,
   "id": "288caa31",
   "metadata": {},
   "outputs": [
    {
     "data": {
      "image/png": "[encoded data removed]",
      "text/plain": [
       "<Figure size 432x288 with 1 Axes>"
      ]
     },
     "metadata": {},
     "output_type": "display_data"
    }
   ],
   "source": [
    "from sklearn.metrics import roc_auc_score\n",
    "from sklearn.metrics import roc_curve\n",
    "logit_roc_auc = roc_auc_score(y_test, logreg.predict(X_test))\n",
    "tree_roc_auc=roc_auc_score(y_test, dtree.predict(X_test))\n",
    "RF_roc_auc=roc_auc_score(y_test, rf_1000.predict(X_test))\n",
    "\n",
    "fpr, tpr, thresholds = roc_curve(y_test, logreg.predict_proba(X_test)[:,1])\n",
    "fpr, tpr, thresholds = roc_curve(y_test, dtree.predict_proba(X_test)[:,1])\n",
    "fpr, tpr, thresholds = roc_curve(y_test, rf_1000.predict_proba(X_test)[:,1])\n",
    "\n",
    "plt.figure()\n",
    "\n",
    "plt.plot(fpr, tpr, label='Logistic Regression (area = %0.2f)' % logit_roc_auc)\n",
    "plt.plot(fpr, tpr, label='Decision Tree (area = %0.2f)' % tree_roc_auc)\n",
    "plt.plot(fpr, tpr, label='Random Foreest Regression (area = %0.2f)' % RF_roc_auc)\n",
    "\n",
    "plt.plot([0, 1], [0, 1],'r--')\n",
    "plt.xlim([0.0, 1.0])\n",
    "plt.ylim([0.0, 1.05])\n",
    "plt.xlabel('False Positive Rate')\n",
    "plt.ylabel('True Positive Rate')\n",
    "plt.title('Receiver operating characteristic')\n",
    "plt.legend(loc=\"lower right\")\n",
    "plt.savefig('Log_ROC')\n",
    "plt.show()"
   ]
  },
  {
   "cell_type": "code",
   "execution_count": null,
   "id": "caf62658",
   "metadata": {},
   "outputs": [],
   "source": []
  }
 ],
 "metadata": {
  "kernelspec": {
   "display_name": "Python 3 (ipykernel)",
   "language": "python",
   "name": "python3"
  },
  "language_info": {
   "codemirror_mode": {
    "name": "ipython",
    "version": 3
   },
   "file_extension": ".py",
   "mimetype": "text/x-python",
   "name": "python",
   "nbconvert_exporter": "python",
   "pygments_lexer": "ipython3",
   "version": "3.9.7"
  }
 },
 "nbformat": 4,
 "nbformat_minor": 5
}
